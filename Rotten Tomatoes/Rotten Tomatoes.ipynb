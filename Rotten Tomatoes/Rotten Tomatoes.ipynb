{
 "cells": [
  {
   "cell_type": "code",
   "execution_count": 1,
   "metadata": {},
   "outputs": [],
   "source": [
    "## web scraping practice from udacity\n",
    "import os\n",
    "from bs4 import BeautifulSoup\n",
    "import pandas as pd\n"
   ]
  },
  {
   "cell_type": "code",
   "execution_count": 2,
   "metadata": {
    "scrolled": true
   },
   "outputs": [],
   "source": [
    "df_list = []\n",
    "folder = 'rt_html'\n",
    "for web in os.listdir(folder):\n",
    "    with open(os.path.join(folder, web), 'rb') as file:\n",
    "        soup = BeautifulSoup(file)\n",
    "        title = soup.find('title').contents[0][:-len('(1957) - Rotten Tomatoes')]\n",
    "        audience_score = soup.find('span', attrs = {'class':'superPageFontColor', 'style':'vertical-align:top'}).contents[0][:-1]\n",
    "        average_rating = soup.find('div', attrs = {'class':'audience-info hidden-xs superPageFontColor'}).find_all('div')[0].contents[2].split()[0][:-2]\n",
    "        user_rating = soup.find('div', attrs = {'class':'audience-info hidden-xs superPageFontColor'}).find_all('div')[1].contents[2].split()[0].replace(',','')\n",
    "        df_list.append({'Title' : title, 'Audience Score' : int(audience_score), 'Average Rating' : float(average_rating), 'User Rating' : int(user_rating)})\n",
    "        \n",
    "    "
   ]
  },
  {
   "cell_type": "code",
   "execution_count": 3,
   "metadata": {},
   "outputs": [
    {
     "data": {
      "text/html": [
       "<div>\n",
       "<style scoped>\n",
       "    .dataframe tbody tr th:only-of-type {\n",
       "        vertical-align: middle;\n",
       "    }\n",
       "\n",
       "    .dataframe tbody tr th {\n",
       "        vertical-align: top;\n",
       "    }\n",
       "\n",
       "    .dataframe thead th {\n",
       "        text-align: right;\n",
       "    }\n",
       "</style>\n",
       "<table border=\"1\" class=\"dataframe\">\n",
       "  <thead>\n",
       "    <tr style=\"text-align: right;\">\n",
       "      <th></th>\n",
       "      <th>Title</th>\n",
       "      <th>Audience Score</th>\n",
       "      <th>Average Rating</th>\n",
       "      <th>User Rating</th>\n",
       "    </tr>\n",
       "  </thead>\n",
       "  <tbody>\n",
       "    <tr>\n",
       "      <th>0</th>\n",
       "      <td>12 Angry Men (Twelve Angry Men)</td>\n",
       "      <td>97</td>\n",
       "      <td>4.2</td>\n",
       "      <td>103672</td>\n",
       "    </tr>\n",
       "    <tr>\n",
       "      <th>1</th>\n",
       "      <td>The 39 Steps</td>\n",
       "      <td>86</td>\n",
       "      <td>3.9</td>\n",
       "      <td>23647</td>\n",
       "    </tr>\n",
       "    <tr>\n",
       "      <th>2</th>\n",
       "      <td>The Adventures of Robin Hood</td>\n",
       "      <td>89</td>\n",
       "      <td>3.7</td>\n",
       "      <td>33584</td>\n",
       "    </tr>\n",
       "    <tr>\n",
       "      <th>3</th>\n",
       "      <td>All About Eve</td>\n",
       "      <td>94</td>\n",
       "      <td>4.3</td>\n",
       "      <td>44564</td>\n",
       "    </tr>\n",
       "    <tr>\n",
       "      <th>4</th>\n",
       "      <td>All Quiet on the Western Front</td>\n",
       "      <td>89</td>\n",
       "      <td>3.9</td>\n",
       "      <td>17768</td>\n",
       "    </tr>\n",
       "  </tbody>\n",
       "</table>\n",
       "</div>"
      ],
      "text/plain": [
       "                              Title  Audience Score  Average Rating  \\\n",
       "0  12 Angry Men (Twelve Angry Men)               97             4.2   \n",
       "1                     The 39 Steps               86             3.9   \n",
       "2     The Adventures of Robin Hood               89             3.7   \n",
       "3                    All About Eve               94             4.3   \n",
       "4   All Quiet on the Western Front               89             3.9   \n",
       "\n",
       "   User Rating  \n",
       "0       103672  \n",
       "1        23647  \n",
       "2        33584  \n",
       "3        44564  \n",
       "4        17768  "
      ]
     },
     "execution_count": 3,
     "metadata": {},
     "output_type": "execute_result"
    }
   ],
   "source": [
    "import pandas as pd\n",
    "df = pd.DataFrame(df_list)\n",
    "df.head()"
   ]
  },
  {
   "cell_type": "code",
   "execution_count": 4,
   "metadata": {},
   "outputs": [],
   "source": [
    "df.to_csv('Top100movies.csv')"
   ]
  }
 ],
 "metadata": {
  "kernelspec": {
   "display_name": "Python 3",
   "language": "python",
   "name": "python3"
  },
  "language_info": {
   "codemirror_mode": {
    "name": "ipython",
    "version": 3
   },
   "file_extension": ".py",
   "mimetype": "text/x-python",
   "name": "python",
   "nbconvert_exporter": "python",
   "pygments_lexer": "ipython3",
   "version": "3.7.6"
  }
 },
 "nbformat": 4,
 "nbformat_minor": 4
}
